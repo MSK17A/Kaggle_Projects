{
 "cells": [
  {
   "cell_type": "code",
   "execution_count": null,
   "metadata": {},
   "outputs": [],
   "source": [
    "# Import dependencies\n",
    "import numpy as np\n",
    "import tensorflow as tf\n",
    "import pandas as pd  # For playing with CSV files\n",
    "import helper_functions.utils as utils  # Write any function here\n",
    "from My_model import *  # To import the model class\n",
    "from matplotlib import pyplot as plt  # To plot graphs\n",
    "# I used it to split dataset into Train-Dev-Test sets\n",
    "from sklearn import model_selection as skMS"
   ]
  },
  {
   "cell_type": "code",
   "execution_count": null,
   "metadata": {},
   "outputs": [],
   "source": [
    "# Import the data\n",
    "train_df = pd.read_csv(\"dataset/train.csv\")\n",
    "test_df = pd.read_csv(\"dataset/test.csv\")"
   ]
  },
  {
   "cell_type": "code",
   "execution_count": null,
   "metadata": {},
   "outputs": [],
   "source": [
    "# Change categorical symbols to numerical-like data\n",
    "for df in [train_df, test_df]:\n",
    "    \n",
    "    df['Embarked'].replace({'S': 0, 'C': 1, 'Q': 2}, inplace=True)\n",
    "    df['Sex'].replace({'male': 0, 'female': 1}, inplace=True)\n",
    "\n",
    "# Replace NaN with mean values\n",
    "train_df['Age'] = train_df['Age'].fillna(26.3)\n",
    "test_df['Age'] = test_df['Age'].fillna(26.3)\n",
    "train_df['Fare'] = train_df['Fare'].fillna(32.2)\n",
    "test_df['Fare'] = test_df['Fare'].fillna(32.2)\n",
    "train_df['Embarked'] = train_df['Embarked'].fillna(0)\n",
    "test_df['Embarked'] = test_df['Embarked'].fillna(0)"
   ]
  },
  {
   "cell_type": "code",
   "execution_count": null,
   "metadata": {},
   "outputs": [],
   "source": [
    "# Study age and categorize it into bands\n",
    "train_df.get(['Age','Survived']).plot.hist(by='Survived', bins=6)\n",
    "train_df['AgeBand'] = pd.cut(train_df['Age'], 3)\n",
    "print(train_df[['AgeBand', 'Survived']].groupby(['AgeBand'], as_index=False).mean().sort_values(by='AgeBand', ascending=True))\n",
    "\n",
    "for df in [train_df, test_df]:\n",
    "    \n",
    "    df.loc[ df['Age'] <= 27, 'Age'] = 0\n",
    "    df.loc[(df['Age'] > 27) & (df['Age'] <= 60), 'Age'] = 1\n",
    "    df.loc[ df['Age'] > 60, 'Age'] = 2\n",
    "\n",
    "print(train_df.head())\n",
    "\n"
   ]
  },
  {
   "cell_type": "code",
   "execution_count": null,
   "metadata": {},
   "outputs": [],
   "source": [
    "# Drop AgeBand column\n",
    "train_df = train_df.drop(columns=['AgeBand'])"
   ]
  },
  {
   "cell_type": "code",
   "execution_count": null,
   "metadata": {},
   "outputs": [],
   "source": [
    "# Categorizing Fare\n",
    "# Study Fare and categorize it into bands\n",
    "train_df.get(['Fare','Survived']).plot.hist(by='Survived', bins=3)\n",
    "train_df['FareBand'] = pd.cut(train_df['Fare'], 3)\n",
    "print(train_df[['FareBand', 'Survived']].groupby(['FareBand'], as_index=False).mean().sort_values(by='FareBand', ascending=True))\n",
    "\n",
    "for df in [train_df, test_df]:\n",
    "    \n",
    "    df.loc[ df['Fare'] <= 170, 'Fare'] = 0\n",
    "    df.loc[(df['Fare'] > 170) & (df['Fare'] <= 340), 'Fare'] = 1\n",
    "    df.loc[ df['Fare'] > 340, 'Fare'] = 2\n",
    "\n",
    "print(train_df.head())"
   ]
  },
  {
   "cell_type": "code",
   "execution_count": null,
   "metadata": {},
   "outputs": [],
   "source": [
    "# Drop FareBand column\n",
    "train_df = train_df.drop(columns=['FareBand'])"
   ]
  },
  {
   "cell_type": "code",
   "execution_count": null,
   "metadata": {},
   "outputs": [],
   "source": [
    "# Drop unused features\n",
    "\n",
    "train_df = train_df.drop(columns=['PassengerId', 'Name', 'Cabin', 'Ticket'])\n",
    "test_df = test_df.drop(columns=['PassengerId', 'Name', 'Cabin', 'Ticket'])\n",
    "\n",
    "y = train_df['Survived'].values  # This is the outputs of the training data\n",
    "train_df = train_df.drop(columns=['Survived'])  # Drop the outputs from the inputs\n",
    "X = train_df.values  # Prepared inputs into numpy array\n",
    "\n",
    "train_df.head()"
   ]
  },
  {
   "cell_type": "code",
   "execution_count": null,
   "metadata": {},
   "outputs": [],
   "source": [
    "# Splitting dataset into train_set and dev_set\n",
    "X_train, X_dev, y_train, y_dev = skMS.train_test_split(X, y, test_size=0.2)\n",
    "X_dev, X_test, y_dev, y_test = skMS.train_test_split(\n",
    "    X_dev, y_dev, test_size=0.5)"
   ]
  },
  {
   "cell_type": "code",
   "execution_count": null,
   "metadata": {},
   "outputs": [],
   "source": [
    "model = My_Model()\n",
    "print(model.summary())\n",
    "model.compile(optimizer=\"adam\",\n",
    "              loss=\"mse\",\n",
    "              metrics=[\"mae\"])\n"
   ]
  },
  {
   "cell_type": "code",
   "execution_count": null,
   "metadata": {},
   "outputs": [],
   "source": [
    "hist = model.fit(\n",
    "    x=X_train,\n",
    "    y=y_train,\n",
    "    batch_size=None,\n",
    "    epochs=200,\n",
    "    verbose='auto',\n",
    "    callbacks=None,\n",
    "    validation_split=0.0,\n",
    "    validation_data=(X_dev, y_dev),\n",
    "    shuffle=True,\n",
    "    class_weight=None,\n",
    "    # sample_weight=weights_train,\n",
    "    initial_epoch=0,\n",
    "    steps_per_epoch=None,\n",
    "    validation_steps=None,\n",
    "    validation_batch_size=None,\n",
    "    validation_freq=1,\n",
    "    max_queue_size=10,\n",
    "    workers=1,\n",
    "    use_multiprocessing=False\n",
    ")"
   ]
  },
  {
   "cell_type": "code",
   "execution_count": null,
   "metadata": {},
   "outputs": [],
   "source": [
    "plt.plot(hist.history['loss'])\n",
    "plt.plot(hist.history['mae'])\n",
    "plt.plot(hist.history['val_loss'])\n",
    "plt.plot(hist.history['val_mae'])\n",
    "plt.ylabel('accuracy')\n",
    "plt.xlabel('epoch')\n",
    "plt.legend(['train_loss', 'mae', 'val_loss', 'val_mae'], loc='upper left')\n",
    "plt.show()\n",
    "\n",
    "print(model.evaluate(X_test, y_test, verbose='auto', return_dict=True))"
   ]
  },
  {
   "cell_type": "code",
   "execution_count": null,
   "metadata": {},
   "outputs": [],
   "source": [
    "model.save(\n",
    "    'Titanic_model',\n",
    "    overwrite=True,\n",
    "    include_optimizer=True,\n",
    "    save_format=None,\n",
    "    signatures=None,\n",
    "    options=None,\n",
    "    save_traces=True,\n",
    ")"
   ]
  },
  {
   "cell_type": "code",
   "execution_count": null,
   "metadata": {},
   "outputs": [],
   "source": [
    "model = tf.keras.models.load_model('Titanic_model')\n",
    "model.summary()\n",
    "X_test_sub = test_df.values\n",
    "\n",
    "Preds = model.predict(X_test_sub)\n",
    "Predictions = []\n",
    "\n",
    "for pred in range(0, len(Preds)):\n",
    "    if (Preds[pred] >= 0.5):\n",
    "        Predictions.append(1)\n",
    "    else:\n",
    "        Predictions.append(0)\n",
    "\n",
    "data = {'PassengerId': df['PassengerId'].values, 'Survived': Predictions}\n",
    "df_submission = pd.DataFrame(data=data)\n",
    "df_submission.to_csv(path_or_buf='submission.csv', index=False)"
   ]
  }
 ],
 "metadata": {
  "kernelspec": {
   "display_name": "Python 3.9.9 64-bit",
   "language": "python",
   "name": "python3"
  },
  "language_info": {
   "codemirror_mode": {
    "name": "ipython",
    "version": 3
   },
   "file_extension": ".py",
   "mimetype": "text/x-python",
   "name": "python",
   "nbconvert_exporter": "python",
   "pygments_lexer": "ipython3",
   "version": "3.9.9"
  },
  "orig_nbformat": 4,
  "vscode": {
   "interpreter": {
    "hash": "a9c42226da077d1fe3780edaf744ad26f651cce53740ac720c65022822becf13"
   }
  }
 },
 "nbformat": 4,
 "nbformat_minor": 2
}
